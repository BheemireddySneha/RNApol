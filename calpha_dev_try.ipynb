{
 "cells": [
  {
   "cell_type": "code",
   "execution_count": 6,
   "metadata": {},
   "outputs": [
    {
     "name": "stderr",
     "output_type": "stream",
     "text": [
      "/home/sneha/.local/lib/python3.8/site-packages/Bio/PDB/PDBParser.py:395: PDBConstructionWarning: Ignoring unrecognized record 'TER' at line 50725\n",
      "  warnings.warn(\n"
     ]
    },
    {
     "ename": "TypeError",
     "evalue": "object of type 'Atom' has no len()",
     "output_type": "error",
     "traceback": [
      "\u001b[0;31m---------------------------------------------------------------------------\u001b[0m",
      "\u001b[0;31mTypeError\u001b[0m                                 Traceback (most recent call last)",
      "\u001b[0;32m<ipython-input-6-0731341bd8cc>\u001b[0m in \u001b[0;36m<module>\u001b[0;34m\u001b[0m\n\u001b[1;32m     27\u001b[0m \u001b[0;34m\u001b[0m\u001b[0m\n\u001b[1;32m     28\u001b[0m \u001b[0;31m# Calculate C-alpha RMSD for each chain in PDB 1 and PDB 2\u001b[0m\u001b[0;34m\u001b[0m\u001b[0;34m\u001b[0m\u001b[0;34m\u001b[0m\u001b[0m\n\u001b[0;32m---> 29\u001b[0;31m \u001b[0mrmsd_values_1\u001b[0m \u001b[0;34m=\u001b[0m \u001b[0mcalculate_calpha_rmsd\u001b[0m\u001b[0;34m(\u001b[0m\u001b[0mpdb_file_1\u001b[0m\u001b[0;34m)\u001b[0m\u001b[0;34m\u001b[0m\u001b[0;34m\u001b[0m\u001b[0m\n\u001b[0m\u001b[1;32m     30\u001b[0m \u001b[0mrmsd_values_2\u001b[0m \u001b[0;34m=\u001b[0m \u001b[0mcalculate_calpha_rmsd\u001b[0m\u001b[0;34m(\u001b[0m\u001b[0mpdb_file_2\u001b[0m\u001b[0;34m)\u001b[0m\u001b[0;34m\u001b[0m\u001b[0;34m\u001b[0m\u001b[0m\n\u001b[1;32m     31\u001b[0m \u001b[0;34m\u001b[0m\u001b[0m\n",
      "\u001b[0;32m<ipython-input-6-0731341bd8cc>\u001b[0m in \u001b[0;36mcalculate_calpha_rmsd\u001b[0;34m(pdb_file)\u001b[0m\n\u001b[1;32m     16\u001b[0m         \u001b[0;32mif\u001b[0m \u001b[0mlen\u001b[0m\u001b[0;34m(\u001b[0m\u001b[0mca_atoms\u001b[0m\u001b[0;34m)\u001b[0m \u001b[0;34m>\u001b[0m \u001b[0;36m1\u001b[0m\u001b[0;34m:\u001b[0m\u001b[0;34m\u001b[0m\u001b[0;34m\u001b[0m\u001b[0m\n\u001b[1;32m     17\u001b[0m             \u001b[0msuperimposer\u001b[0m \u001b[0;34m=\u001b[0m \u001b[0mPDB\u001b[0m\u001b[0;34m.\u001b[0m\u001b[0mSuperimposer\u001b[0m\u001b[0;34m(\u001b[0m\u001b[0;34m)\u001b[0m\u001b[0;34m\u001b[0m\u001b[0;34m\u001b[0m\u001b[0m\n\u001b[0;32m---> 18\u001b[0;31m             \u001b[0msuperimposer\u001b[0m\u001b[0;34m.\u001b[0m\u001b[0mset_atoms\u001b[0m\u001b[0;34m(\u001b[0m\u001b[0mca_atoms\u001b[0m\u001b[0;34m[\u001b[0m\u001b[0;36m0\u001b[0m\u001b[0;34m]\u001b[0m\u001b[0;34m,\u001b[0m \u001b[0mca_atoms\u001b[0m\u001b[0;34m[\u001b[0m\u001b[0;36m1\u001b[0m\u001b[0;34m:\u001b[0m\u001b[0;34m]\u001b[0m\u001b[0;34m)\u001b[0m\u001b[0;34m\u001b[0m\u001b[0;34m\u001b[0m\u001b[0m\n\u001b[0m\u001b[1;32m     19\u001b[0m             \u001b[0mrmsd\u001b[0m \u001b[0;34m=\u001b[0m \u001b[0msuperimposer\u001b[0m\u001b[0;34m.\u001b[0m\u001b[0mrms\u001b[0m\u001b[0;34m\u001b[0m\u001b[0;34m\u001b[0m\u001b[0m\n\u001b[1;32m     20\u001b[0m             \u001b[0mrmsd_values\u001b[0m\u001b[0;34m.\u001b[0m\u001b[0mappend\u001b[0m\u001b[0;34m(\u001b[0m\u001b[0mrmsd\u001b[0m\u001b[0;34m)\u001b[0m\u001b[0;34m\u001b[0m\u001b[0;34m\u001b[0m\u001b[0m\n",
      "\u001b[0;32m~/.local/lib/python3.8/site-packages/Bio/PDB/Superimposer.py\u001b[0m in \u001b[0;36mset_atoms\u001b[0;34m(self, fixed, moving)\u001b[0m\n\u001b[1;32m     33\u001b[0m         \u001b[0;34m:\u001b[0m\u001b[0mtype\u001b[0m \u001b[0mfixed\u001b[0m\u001b[0;34m,\u001b[0m\u001b[0mmoving\u001b[0m\u001b[0;34m:\u001b[0m \u001b[0;34m[\u001b[0m\u001b[0mL\u001b[0m\u001b[0;34m{\u001b[0m\u001b[0mAtom\u001b[0m\u001b[0;34m}\u001b[0m\u001b[0;34m,\u001b[0m \u001b[0mL\u001b[0m\u001b[0;34m{\u001b[0m\u001b[0mAtom\u001b[0m\u001b[0;34m}\u001b[0m\u001b[0;34m,\u001b[0m\u001b[0;34m...\u001b[0m\u001b[0;34m]\u001b[0m\u001b[0;34m\u001b[0m\u001b[0;34m\u001b[0m\u001b[0m\n\u001b[1;32m     34\u001b[0m         \"\"\"\n\u001b[0;32m---> 35\u001b[0;31m         \u001b[0;32mif\u001b[0m \u001b[0;32mnot\u001b[0m \u001b[0mlen\u001b[0m\u001b[0;34m(\u001b[0m\u001b[0mfixed\u001b[0m\u001b[0;34m)\u001b[0m \u001b[0;34m==\u001b[0m \u001b[0mlen\u001b[0m\u001b[0;34m(\u001b[0m\u001b[0mmoving\u001b[0m\u001b[0;34m)\u001b[0m\u001b[0;34m:\u001b[0m\u001b[0;34m\u001b[0m\u001b[0;34m\u001b[0m\u001b[0m\n\u001b[0m\u001b[1;32m     36\u001b[0m             \u001b[0;32mraise\u001b[0m \u001b[0mPDBException\u001b[0m\u001b[0;34m(\u001b[0m\u001b[0;34m\"Fixed and moving atom lists differ in size\"\u001b[0m\u001b[0;34m)\u001b[0m\u001b[0;34m\u001b[0m\u001b[0;34m\u001b[0m\u001b[0m\n\u001b[1;32m     37\u001b[0m         \u001b[0mlength\u001b[0m \u001b[0;34m=\u001b[0m \u001b[0mlen\u001b[0m\u001b[0;34m(\u001b[0m\u001b[0mfixed\u001b[0m\u001b[0;34m)\u001b[0m\u001b[0;34m\u001b[0m\u001b[0;34m\u001b[0m\u001b[0m\n",
      "\u001b[0;31mTypeError\u001b[0m: object of type 'Atom' has no len()"
     ]
    }
   ],
   "source": [
    "import numpy as np\n",
    "import matplotlib.pyplot as plt\n",
    "from Bio import PDB\n",
    "\n",
    "def calculate_calpha_rmsd(pdb_file):\n",
    "    parser = PDB.PDBParser()\n",
    "    structure = parser.get_structure(\"structure\", pdb_file)\n",
    "    \n",
    "    chains = structure.get_chains()\n",
    "    rmsd_values = []\n",
    "    \n",
    "    for chain in chains:\n",
    "        residues = chain.get_residues()\n",
    "        ca_atoms = [residue[\"CA\"] for residue in residues if \"CA\" in residue]\n",
    "        \n",
    "        if len(ca_atoms) > 1:\n",
    "            superimposer = PDB.Superimposer()\n",
    "            superimposer.set_atoms(ca_atoms[0], ca_atoms[1:])\n",
    "            rmsd = superimposer.rms\n",
    "            rmsd_values.append(rmsd)\n",
    "    \n",
    "    return rmsd_values\n",
    "\n",
    "# PDB file paths\n",
    "pdb_file_1 = \"5uh5.pdb\"\n",
    "pdb_file_2 = \"6c04.pdb\"\n",
    "\n",
    "# Calculate C-alpha RMSD for each chain in PDB 1 and PDB 2\n",
    "rmsd_values_1 = calculate_calpha_rmsd(pdb_file_1)\n",
    "rmsd_values_2 = calculate_calpha_rmsd(pdb_file_2)\n",
    "\n",
    "# Plotting\n",
    "x = np.arange(len(rmsd_values_1))\n",
    "width = 0.35\n",
    "\n",
    "fig, ax = plt.subplots()\n",
    "rects1 = ax.bar(x - width/2, rmsd_values_1, width, label='PDB 1')\n",
    "rects2 = ax.bar(x + width/2, rmsd_values_2, width, label='PDB 2')\n",
    "\n",
    "ax.set_xlabel('Chain')\n",
    "ax.set_ylabel('C-alpha RMSD')\n",
    "ax.set_title('C-alpha RMSD Deviation for Each Chain')\n",
    "ax.set_xticks(x)\n",
    "ax.legend()\n",
    "\n",
    "plt.tight_layout()\n",
    "plt.show()\n"
   ]
  },
  {
   "cell_type": "code",
   "execution_count": 12,
   "metadata": {},
   "outputs": [
    {
     "data": {
      "image/png": "[encoded data removed]",
      "text/plain": [
       "<Figure size 432x288 with 1 Axes>"
      ]
     },
     "metadata": {
      "needs_background": "light"
     },
     "output_type": "display_data"
    }
   ],
   "source": [
    "import matplotlib.pyplot as plt\n",
    "from Bio.PDB import Superimposer, PDBParser\n",
    "\n",
    "from Bio.PDB import Superimposer, PDBParser\n",
    "\n",
    "def calculate_rmsd(pdb_file):\n",
    "    parser = PDBParser(QUIET=True)\n",
    "    structure = parser.get_structure('protein', pdb_file)\n",
    "    model = structure[0]\n",
    "\n",
    "    chains = model.get_chains()\n",
    "    rmsd_values = []\n",
    "\n",
    "    for chain in chains:\n",
    "        atoms = [atom for atom in chain.get_atoms() if atom.get_id() == 'CA']\n",
    "        coordinates = [atom.get_coord() for atom in atoms]\n",
    "        superimposer = Superimposer()\n",
    "        superimposer.set_atoms(atoms, atoms)  # Pass the atoms instead of just the coordinates\n",
    "        rmsd = superimposer.rms\n",
    "        rmsd_values.append(rmsd)\n",
    "\n",
    "    return rmsd_values\n",
    "\n",
    "pdb_files = ['5uh5.pdb', '6c04.pdb']\n",
    "labels = ['5UH5', '6C04']\n",
    "\n",
    "fig, ax = plt.subplots()\n",
    "\n",
    "for i, pdb_file in enumerate(pdb_files):\n",
    "    rmsd_values = calculate_rmsd(pdb_file)\n",
    "    x = range(len(rmsd_values))\n",
    "    ax.bar(x, rmsd_values, label=labels[i])\n",
    "\n",
    "ax.set_xlabel('Chain')\n",
    "ax.set_ylabel('Cα RMSD Deviation')\n",
    "ax.set_title('Cα RMSD Deviation for Each Chain')\n",
    "ax.set_xticks(x)\n",
    "ax.legend()\n",
    "\n",
    "plt.tight_layout()\n",
    "plt.show()\n"
   ]
  },
  {
   "cell_type": "code",
   "execution_count": 18,
   "metadata": {},
   "outputs": [
    {
     "data": {
      "image/png": "[encoded data removed]",
      "text/plain": [
       "<Figure size 576x432 with 2 Axes>"
      ]
     },
     "metadata": {
      "needs_background": "light"
     },
     "output_type": "display_data"
    }
   ],
   "source": [
    "import matplotlib.pyplot as plt\n",
    "from Bio.PDB import Superimposer, PDBParser\n",
    "\n",
    "def calculate_rmsd(pdb_file):\n",
    "    parser = PDBParser(QUIET=True)\n",
    "    structure = parser.get_structure('protein', pdb_file)\n",
    "    model = structure[0]\n",
    "\n",
    "    chains = model.get_chains()\n",
    "    rmsd_values = []\n",
    "\n",
    "    for chain in chains:\n",
    "        atoms = [atom for atom in chain.get_atoms() if atom.get_id() == 'CA']\n",
    "        coordinates = [atom.get_coord() for atom in atoms]\n",
    "        superimposer = Superimposer()\n",
    "        superimposer.set_atoms(atoms, atoms)  # Pass the atoms instead of just the coordinates\n",
    "        rmsd = superimposer.rms\n",
    "        rmsd_values.append(rmsd)\n",
    "\n",
    "    return rmsd_values\n",
    "\n",
    "pdb_files = ['5uh5.pdb', '6c04.pdb']\n",
    "labels = ['5UH5', '6C04']\n",
    "\n",
    "fig, axs = plt.subplots(len(pdb_files), 1, figsize=(8, 6))\n",
    "\n",
    "for i, pdb_file in enumerate(pdb_files):\n",
    "    rmsd_values = calculate_rmsd(pdb_file)\n",
    "    chains = range(1, len(rmsd_values) + 1)\n",
    "    axs[i].bar(chains, rmsd_values, tick_label=chains)\n",
    "    axs[i].set_xlabel('Chain')\n",
    "    axs[i].set_ylabel('Cα RMSD Deviation (Å)')\n",
    "    axs[i].set_title('Cα RMSD Deviation for ' + labels[i])\n",
    "\n",
    "plt.tight_layout()\n",
    "plt.show()\n",
    "\n"
   ]
  },
  {
   "cell_type": "code",
   "execution_count": 21,
   "metadata": {},
   "outputs": [
    {
     "ename": "ValueError",
     "evalue": "x and y must have same first dimension, but have shapes (224,) and (1,)",
     "output_type": "error",
     "traceback": [
      "\u001b[0;31m---------------------------------------------------------------------------\u001b[0m",
      "\u001b[0;31mValueError\u001b[0m                                Traceback (most recent call last)",
      "\u001b[0;32m<ipython-input-21-e59c004d79b9>\u001b[0m in \u001b[0;36m<module>\u001b[0;34m\u001b[0m\n\u001b[1;32m     32\u001b[0m     \u001b[0;32mfor\u001b[0m \u001b[0mchain\u001b[0m \u001b[0;32min\u001b[0m \u001b[0mchains\u001b[0m\u001b[0;34m:\u001b[0m\u001b[0;34m\u001b[0m\u001b[0;34m\u001b[0m\u001b[0m\n\u001b[1;32m     33\u001b[0m         \u001b[0mresidue_numbers\u001b[0m\u001b[0;34m,\u001b[0m \u001b[0mrmsd\u001b[0m \u001b[0;34m=\u001b[0m \u001b[0mrmsd_values\u001b[0m\u001b[0;34m[\u001b[0m\u001b[0mchain\u001b[0m\u001b[0;34m]\u001b[0m\u001b[0;34m\u001b[0m\u001b[0;34m\u001b[0m\u001b[0m\n\u001b[0;32m---> 34\u001b[0;31m         \u001b[0maxs\u001b[0m\u001b[0;34m[\u001b[0m\u001b[0mi\u001b[0m\u001b[0;34m]\u001b[0m\u001b[0;34m.\u001b[0m\u001b[0mplot\u001b[0m\u001b[0;34m(\u001b[0m\u001b[0mresidue_numbers\u001b[0m\u001b[0;34m,\u001b[0m \u001b[0mrmsd\u001b[0m \u001b[0;34m*\u001b[0m \u001b[0mlen\u001b[0m\u001b[0;34m(\u001b[0m\u001b[0mresidue_numbers\u001b[0m\u001b[0;34m)\u001b[0m\u001b[0;34m,\u001b[0m \u001b[0mlabel\u001b[0m\u001b[0;34m=\u001b[0m\u001b[0;34mf'{labels[i]} Chain {chain}'\u001b[0m\u001b[0;34m)\u001b[0m\u001b[0;34m\u001b[0m\u001b[0;34m\u001b[0m\u001b[0m\n\u001b[0m\u001b[1;32m     35\u001b[0m \u001b[0;34m\u001b[0m\u001b[0m\n\u001b[1;32m     36\u001b[0m     \u001b[0maxs\u001b[0m\u001b[0;34m[\u001b[0m\u001b[0mi\u001b[0m\u001b[0;34m]\u001b[0m\u001b[0;34m.\u001b[0m\u001b[0mset_xlabel\u001b[0m\u001b[0;34m(\u001b[0m\u001b[0;34m'Residue'\u001b[0m\u001b[0;34m)\u001b[0m\u001b[0;34m\u001b[0m\u001b[0;34m\u001b[0m\u001b[0m\n",
      "\u001b[0;32m~/anaconda3/lib/python3.8/site-packages/matplotlib/axes/_axes.py\u001b[0m in \u001b[0;36mplot\u001b[0;34m(self, scalex, scaley, data, *args, **kwargs)\u001b[0m\n\u001b[1;32m   1741\u001b[0m         \"\"\"\n\u001b[1;32m   1742\u001b[0m         \u001b[0mkwargs\u001b[0m \u001b[0;34m=\u001b[0m \u001b[0mcbook\u001b[0m\u001b[0;34m.\u001b[0m\u001b[0mnormalize_kwargs\u001b[0m\u001b[0;34m(\u001b[0m\u001b[0mkwargs\u001b[0m\u001b[0;34m,\u001b[0m \u001b[0mmlines\u001b[0m\u001b[0;34m.\u001b[0m\u001b[0mLine2D\u001b[0m\u001b[0;34m)\u001b[0m\u001b[0;34m\u001b[0m\u001b[0;34m\u001b[0m\u001b[0m\n\u001b[0;32m-> 1743\u001b[0;31m         \u001b[0mlines\u001b[0m \u001b[0;34m=\u001b[0m \u001b[0;34m[\u001b[0m\u001b[0;34m*\u001b[0m\u001b[0mself\u001b[0m\u001b[0;34m.\u001b[0m\u001b[0m_get_lines\u001b[0m\u001b[0;34m(\u001b[0m\u001b[0;34m*\u001b[0m\u001b[0margs\u001b[0m\u001b[0;34m,\u001b[0m \u001b[0mdata\u001b[0m\u001b[0;34m=\u001b[0m\u001b[0mdata\u001b[0m\u001b[0;34m,\u001b[0m \u001b[0;34m**\u001b[0m\u001b[0mkwargs\u001b[0m\u001b[0;34m)\u001b[0m\u001b[0;34m]\u001b[0m\u001b[0;34m\u001b[0m\u001b[0;34m\u001b[0m\u001b[0m\n\u001b[0m\u001b[1;32m   1744\u001b[0m         \u001b[0;32mfor\u001b[0m \u001b[0mline\u001b[0m \u001b[0;32min\u001b[0m \u001b[0mlines\u001b[0m\u001b[0;34m:\u001b[0m\u001b[0;34m\u001b[0m\u001b[0;34m\u001b[0m\u001b[0m\n\u001b[1;32m   1745\u001b[0m             \u001b[0mself\u001b[0m\u001b[0;34m.\u001b[0m\u001b[0madd_line\u001b[0m\u001b[0;34m(\u001b[0m\u001b[0mline\u001b[0m\u001b[0;34m)\u001b[0m\u001b[0;34m\u001b[0m\u001b[0;34m\u001b[0m\u001b[0m\n",
      "\u001b[0;32m~/anaconda3/lib/python3.8/site-packages/matplotlib/axes/_base.py\u001b[0m in \u001b[0;36m__call__\u001b[0;34m(self, data, *args, **kwargs)\u001b[0m\n\u001b[1;32m    271\u001b[0m                 \u001b[0mthis\u001b[0m \u001b[0;34m+=\u001b[0m \u001b[0margs\u001b[0m\u001b[0;34m[\u001b[0m\u001b[0;36m0\u001b[0m\u001b[0;34m]\u001b[0m\u001b[0;34m,\u001b[0m\u001b[0;34m\u001b[0m\u001b[0;34m\u001b[0m\u001b[0m\n\u001b[1;32m    272\u001b[0m                 \u001b[0margs\u001b[0m \u001b[0;34m=\u001b[0m \u001b[0margs\u001b[0m\u001b[0;34m[\u001b[0m\u001b[0;36m1\u001b[0m\u001b[0;34m:\u001b[0m\u001b[0;34m]\u001b[0m\u001b[0;34m\u001b[0m\u001b[0;34m\u001b[0m\u001b[0m\n\u001b[0;32m--> 273\u001b[0;31m             \u001b[0;32myield\u001b[0m \u001b[0;32mfrom\u001b[0m \u001b[0mself\u001b[0m\u001b[0;34m.\u001b[0m\u001b[0m_plot_args\u001b[0m\u001b[0;34m(\u001b[0m\u001b[0mthis\u001b[0m\u001b[0;34m,\u001b[0m \u001b[0mkwargs\u001b[0m\u001b[0;34m)\u001b[0m\u001b[0;34m\u001b[0m\u001b[0;34m\u001b[0m\u001b[0m\n\u001b[0m\u001b[1;32m    274\u001b[0m \u001b[0;34m\u001b[0m\u001b[0m\n\u001b[1;32m    275\u001b[0m     \u001b[0;32mdef\u001b[0m \u001b[0mget_next_color\u001b[0m\u001b[0;34m(\u001b[0m\u001b[0mself\u001b[0m\u001b[0;34m)\u001b[0m\u001b[0;34m:\u001b[0m\u001b[0;34m\u001b[0m\u001b[0;34m\u001b[0m\u001b[0m\n",
      "\u001b[0;32m~/anaconda3/lib/python3.8/site-packages/matplotlib/axes/_base.py\u001b[0m in \u001b[0;36m_plot_args\u001b[0;34m(self, tup, kwargs)\u001b[0m\n\u001b[1;32m    397\u001b[0m \u001b[0;34m\u001b[0m\u001b[0m\n\u001b[1;32m    398\u001b[0m         \u001b[0;32mif\u001b[0m \u001b[0mx\u001b[0m\u001b[0;34m.\u001b[0m\u001b[0mshape\u001b[0m\u001b[0;34m[\u001b[0m\u001b[0;36m0\u001b[0m\u001b[0;34m]\u001b[0m \u001b[0;34m!=\u001b[0m \u001b[0my\u001b[0m\u001b[0;34m.\u001b[0m\u001b[0mshape\u001b[0m\u001b[0;34m[\u001b[0m\u001b[0;36m0\u001b[0m\u001b[0;34m]\u001b[0m\u001b[0;34m:\u001b[0m\u001b[0;34m\u001b[0m\u001b[0;34m\u001b[0m\u001b[0m\n\u001b[0;32m--> 399\u001b[0;31m             raise ValueError(f\"x and y must have same first dimension, but \"\n\u001b[0m\u001b[1;32m    400\u001b[0m                              f\"have shapes {x.shape} and {y.shape}\")\n\u001b[1;32m    401\u001b[0m         \u001b[0;32mif\u001b[0m \u001b[0mx\u001b[0m\u001b[0;34m.\u001b[0m\u001b[0mndim\u001b[0m \u001b[0;34m>\u001b[0m \u001b[0;36m2\u001b[0m \u001b[0;32mor\u001b[0m \u001b[0my\u001b[0m\u001b[0;34m.\u001b[0m\u001b[0mndim\u001b[0m \u001b[0;34m>\u001b[0m \u001b[0;36m2\u001b[0m\u001b[0;34m:\u001b[0m\u001b[0;34m\u001b[0m\u001b[0;34m\u001b[0m\u001b[0m\n",
      "\u001b[0;31mValueError\u001b[0m: x and y must have same first dimension, but have shapes (224,) and (1,)"
     ]
    },
    {
     "data": {
      "image/png": "[encoded data removed]",
      "text/plain": [
       "<Figure size 576x432 with 2 Axes>"
      ]
     },
     "metadata": {
      "needs_background": "light"
     },
     "output_type": "display_data"
    }
   ],
   "source": [
    "import matplotlib.pyplot as plt\n",
    "from Bio.PDB import Superimposer, PDBParser\n",
    "\n",
    "def calculate_rmsd(pdb_file):\n",
    "    parser = PDBParser(QUIET=True)\n",
    "    structure = parser.get_structure('protein', pdb_file)\n",
    "    model = structure[0]\n",
    "\n",
    "    chains = model.get_chains()\n",
    "    rmsd_values = {}\n",
    "\n",
    "    for chain in chains:\n",
    "        atoms = [atom for atom in chain.get_atoms() if atom.get_id() == 'CA']\n",
    "        coordinates = [atom.get_coord() for atom in atoms]\n",
    "        superimposer = Superimposer()\n",
    "        superimposer.set_atoms(atoms, atoms)  # Pass the atoms instead of just the coordinates\n",
    "        rmsd = superimposer.rms\n",
    "        residue_numbers = [atom.get_parent().get_id()[1] for atom in atoms]  # Get the residue numbers\n",
    "        rmsd_values[chain.get_id()] = (residue_numbers, rmsd)\n",
    "\n",
    "    return rmsd_values\n",
    "\n",
    "pdb_files = ['5uh5.pdb', '6c04.pdb']\n",
    "labels = ['5UH5', '6C04']\n",
    "\n",
    "fig, axs = plt.subplots(len(pdb_files), 1, figsize=(8, 6))\n",
    "\n",
    "for i, pdb_file in enumerate(pdb_files):\n",
    "    rmsd_values = calculate_rmsd(pdb_file)\n",
    "    chains = rmsd_values.keys()\n",
    "\n",
    "    for chain in chains:\n",
    "        residue_numbers, rmsd = rmsd_values[chain]\n",
    "        axs[i].plot(residue_numbers, rmsd * len(residue_numbers), label=f'{labels[i]} Chain {chain}')\n",
    "\n",
    "    axs[i].set_xlabel('Residue')\n",
    "    axs[i].set_ylabel('Cα RMSD Deviation (Å)')\n",
    "    axs[i].set_title(f'Cα RMSD Deviation for {labels[i]}')\n",
    "    axs[i].legend()\n",
    "\n",
    "plt.tight_layout()\n",
    "plt.show()\n"
   ]
  },
  {
   "cell_type": "code",
   "execution_count": null,
   "metadata": {},
   "outputs": [],
   "source": []
  }
 ],
 "metadata": {
  "kernelspec": {
   "display_name": "Python 3 (ipykernel)",
   "language": "python",
   "name": "python3"
  },
  "language_info": {
   "codemirror_mode": {
    "name": "ipython",
    "version": 3
   },
   "file_extension": ".py",
   "mimetype": "text/x-python",
   "name": "python",
   "nbconvert_exporter": "python",
   "pygments_lexer": "ipython3",
   "version": "3.8.5"
  }
 },
 "nbformat": 4,
 "nbformat_minor": 4
}
